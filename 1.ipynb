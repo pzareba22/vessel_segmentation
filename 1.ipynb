{
 "cells": [
  {
   "cell_type": "markdown",
   "id": "81035c99-01de-45bb-87fc-918123cdb51f",
   "metadata": {},
   "source": [
    "# Vessel segmentation"
   ]
  },
  {
   "cell_type": "code",
   "execution_count": 71,
   "id": "801a1430-31d7-41a1-8e28-5ae4edb7e752",
   "metadata": {},
   "outputs": [],
   "source": [
    "import numpy as np\n",
    "import nibabel as nib\n",
    "import matplotlib.pyplot as plt"
   ]
  },
  {
   "cell_type": "code",
   "execution_count": 72,
   "id": "5541b89b-162d-4640-a7cd-c66bbed30aca",
   "metadata": {},
   "outputs": [],
   "source": [
    "data_path = \"./data_labeled\"\n",
    "img1 = nib.load(\"./data_labeled/sub-000_ses-20110101_desc-angio_N4bfc_brain_mask.nii.gz\")\n",
    "mask1 = nib.load(\"./data_labeled/sub-000_segmentation.nii.gz\")"
   ]
  },
  {
   "cell_type": "code",
   "execution_count": 73,
   "id": "81fec685-c984-4c2a-8a22-225f0b378b4b",
   "metadata": {},
   "outputs": [],
   "source": [
    "data = img1.get_fdata()\n",
    "mask_data = mask1.get_fdata()\n",
    "data_masked = np.where(mask_data == 1, data, 0)"
   ]
  },
  {
   "cell_type": "code",
   "execution_count": 74,
   "id": "3a11ee82-9a79-4812-8b42-3bb69050b39c",
   "metadata": {},
   "outputs": [
    {
     "data": {
      "image/png": "[encoded data removed]",
      "text/plain": [
       "<Figure size 640x480 with 1 Axes>"
      ]
     },
     "metadata": {},
     "output_type": "display_data"
    }
   ],
   "source": [
    "x = data_masked[300, :, :]\n",
    "plt.imshow(x, cmap=\"gray\")\n",
    "plt.show()"
   ]
  }
 ],
 "metadata": {
  "kernelspec": {
   "display_name": "Python 3 (ipykernel)",
   "language": "python",
   "name": "python3"
  },
  "language_info": {
   "codemirror_mode": {
    "name": "ipython",
    "version": 3
   },
   "file_extension": ".py",
   "mimetype": "text/x-python",
   "name": "python",
   "nbconvert_exporter": "python",
   "pygments_lexer": "ipython3",
   "version": "3.12.8"
  }
 },
 "nbformat": 4,
 "nbformat_minor": 5
}
